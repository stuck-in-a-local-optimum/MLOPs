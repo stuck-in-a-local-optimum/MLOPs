{
 "cells": [
  {
   "cell_type": "code",
   "execution_count": 2,
   "id": "d672af0b",
   "metadata": {},
   "outputs": [],
   "source": [
    "from mlflow.tracking import MlflowClient\n",
    "\n",
    "MLFLOW_TRACKING_URI = \"sqlite:///mlflow.db\"\n",
    "\n",
    "client = MlflowClient(tracking_uri = MLFLOW_TRACKING_URI)"
   ]
  },
  {
   "cell_type": "code",
   "execution_count": 4,
   "id": "e56e11f6",
   "metadata": {},
   "outputs": [
    {
     "data": {
      "text/plain": [
       "[<Experiment: artifact_location='./mlruns/0', experiment_id='0', lifecycle_stage='active', name='Default', tags={}>,\n",
       " <Experiment: artifact_location='./mlruns/1', experiment_id='1', lifecycle_stage='active', name='nyc-taxi-experiment', tags={}>]"
      ]
     },
     "execution_count": 4,
     "metadata": {},
     "output_type": "execute_result"
    }
   ],
   "source": [
    "#list of experiments on our mlflow ui\n",
    "client.list_experiments()"
   ]
  },
  {
   "cell_type": "code",
   "execution_count": 12,
   "id": "c343e519",
   "metadata": {},
   "outputs": [],
   "source": [
    "#check for the given experiment, what are the best runs/models\n",
    "\n",
    "from mlflow.entities import ViewType\n",
    "\n",
    "runs  = client.search_runs(\n",
    "    experiment_ids=\"1\",\n",
    "    filter_string =\"metrics.rmse <6.8\",\n",
    "    run_view_type = ViewType.ACTIVE_ONLY,\n",
    "    max_results = 5,\n",
    "    order_by = ['metrics.rmse ASC']\n",
    ")"
   ]
  },
  {
   "cell_type": "code",
   "execution_count": 13,
   "id": "a60120d3",
   "metadata": {},
   "outputs": [
    {
     "name": "stdout",
     "output_type": "stream",
     "text": [
      "run id: b737d95fc8a14ae2a599771751638cb0, rmse:6.2887\n",
      "run id: e389dae9d8a045538a7330c618cb7c96, rmse:6.2902\n",
      "run id: 4baf368bdf8e4633bdd0d3e7dc2c3560, rmse:6.2913\n",
      "run id: 7338b6a818bf4893b4ccc0887aab1148, rmse:6.3040\n",
      "run id: 80fe68adcdce401699fd14e4a906c162, rmse:6.3093\n"
     ]
    }
   ],
   "source": [
    "for run in runs:\n",
    "    print(f\"run id: {run.info.run_id}, rmse:{run.data.metrics['rmse']:.4f}\")"
   ]
  },
  {
   "cell_type": "code",
   "execution_count": 14,
   "id": "e17b12c6",
   "metadata": {},
   "outputs": [],
   "source": [
    "#promote some of the above models to model registry\n",
    "import mlflow\n",
    "\n",
    "#need to set also here the tracking server otherwise it would try to look for the models in \n",
    "#the local folder\n",
    "mlflow.set_tracking_uri(MLFLOW_TRACKING_URI)"
   ]
  },
  {
   "cell_type": "code",
   "execution_count": 15,
   "id": "33f402f5",
   "metadata": {},
   "outputs": [
    {
     "name": "stderr",
     "output_type": "stream",
     "text": [
      "Registered model 'nyc-taxi-regressor' already exists. Creating a new version of this model...\n",
      "2022/07/28 16:16:36 INFO mlflow.tracking._model_registry.client: Waiting up to 300 seconds for model version to finish creation.                     Model name: nyc-taxi-regressor, version 3\n",
      "Created version '3' of model 'nyc-taxi-regressor'.\n"
     ]
    },
    {
     "data": {
      "text/plain": [
       "<ModelVersion: creation_timestamp=1659005196460, current_stage='None', description=None, last_updated_timestamp=1659005196460, name='nyc-taxi-regressor', run_id='80fe68adcdce401699fd14e4a906c162', run_link=None, source='./mlruns/1/80fe68adcdce401699fd14e4a906c162/artifacts/model', status='READY', status_message=None, tags={}, user_id=None, version=3>"
      ]
     },
     "execution_count": 15,
     "metadata": {},
     "output_type": "execute_result"
    }
   ],
   "source": [
    "#register a new version of the model\n",
    "run_id = '80fe68adcdce401699fd14e4a906c162'\n",
    "model_uri = f\"runs:/{run_id}/model\"\n",
    "mlflow.register_model(model_uri=model_uri, name=\"nyc-taxi-regressor\")\n"
   ]
  },
  {
   "cell_type": "code",
   "execution_count": 17,
   "id": "4bafc912",
   "metadata": {},
   "outputs": [
    {
     "data": {
      "text/plain": [
       "[<RegisteredModel: creation_timestamp=1659001275504, description='The NYC Taxi predictor for trip duration', last_updated_timestamp=1659005196460, latest_versions=[<ModelVersion: creation_timestamp=1659001302451, current_stage='Staging', description='', last_updated_timestamp=1659001594486, name='nyc-taxi-regressor', run_id='08062686756249d8ba1a9b5920d2f1a2', run_link='', source='./mlruns/1/08062686756249d8ba1a9b5920d2f1a2/artifacts/model', status='READY', status_message=None, tags={'model': 'Gradient boosting regressor'}, user_id=None, version=2>,\n",
       "  <ModelVersion: creation_timestamp=1659005196460, current_stage='None', description=None, last_updated_timestamp=1659005196460, name='nyc-taxi-regressor', run_id='80fe68adcdce401699fd14e4a906c162', run_link=None, source='./mlruns/1/80fe68adcdce401699fd14e4a906c162/artifacts/model', status='READY', status_message=None, tags={}, user_id=None, version=3>], name='nyc-taxi-regressor', tags={}>]"
      ]
     },
     "execution_count": 17,
     "metadata": {},
     "output_type": "execute_result"
    }
   ],
   "source": [
    "client.list_registered_models()"
   ]
  },
  {
   "cell_type": "code",
   "execution_count": 23,
   "id": "a334c99e",
   "metadata": {},
   "outputs": [],
   "source": [
    "#get latest version of the model\n",
    "\n",
    "model_name='nyc-taxi-regressor'\n",
    "latest_versions = client.get_latest_versions(name = model_name)"
   ]
  },
  {
   "cell_type": "code",
   "execution_count": 24,
   "id": "3a94d8bb",
   "metadata": {},
   "outputs": [
    {
     "name": "stdout",
     "output_type": "stream",
     "text": [
      "version: 2, stage: Staging\n",
      "version: 3, stage: None\n"
     ]
    }
   ],
   "source": [
    "for version in latest_versions:\n",
    "    print(f'version: {version.version}, stage: {version.current_stage}')"
   ]
  },
  {
   "cell_type": "code",
   "execution_count": 29,
   "id": "84dea8c1",
   "metadata": {},
   "outputs": [
    {
     "data": {
      "text/plain": [
       "<ModelVersion: creation_timestamp=1659005196460, current_stage='Staging', description=None, last_updated_timestamp=1659006144939, name='nyc-taxi-regressor', run_id='80fe68adcdce401699fd14e4a906c162', run_link=None, source='./mlruns/1/80fe68adcdce401699fd14e4a906c162/artifacts/model', status='READY', status_message=None, tags={}, user_id=None, version=3>"
      ]
     },
     "execution_count": 29,
     "metadata": {},
     "output_type": "execute_result"
    }
   ],
   "source": [
    "#transition a model from one stage to another\n",
    "model_version =3\n",
    "new_stage = 'Staging'\n",
    "\n",
    "client.transition_model_version_stage(\n",
    "    name = model_name,\n",
    "    version = model_version,\n",
    "    stage=new_stage,\n",
    "    archive_existing_versions = False\n",
    ")"
   ]
  },
  {
   "cell_type": "code",
   "execution_count": 32,
   "id": "765ff015",
   "metadata": {
    "scrolled": true
   },
   "outputs": [
    {
     "data": {
      "text/plain": [
       "<ModelVersion: creation_timestamp=1659005196460, current_stage='Staging', description='The model version 3 was transitioned to Staging on 2022-07-28', last_updated_timestamp=1659006281139, name='nyc-taxi-regressor', run_id='80fe68adcdce401699fd14e4a906c162', run_link=None, source='./mlruns/1/80fe68adcdce401699fd14e4a906c162/artifacts/model', status='READY', status_message=None, tags={}, user_id=None, version=3>"
      ]
     },
     "execution_count": 32,
     "metadata": {},
     "output_type": "execute_result"
    }
   ],
   "source": [
    "#we can update a version also\n",
    "from datetime import datetime\n",
    "\n",
    "date = datetime.today().date()\n",
    "client.update_model_version(\n",
    "    name= model_name,\n",
    "    version=3,\n",
    "    description = f'The model version {model_version} was transitioned to {new_stage} on {date}')"
   ]
  },
  {
   "cell_type": "code",
   "execution_count": null,
   "id": "d3c59734",
   "metadata": {},
   "outputs": [],
   "source": []
  },
  {
   "cell_type": "code",
   "execution_count": null,
   "id": "e80587cf",
   "metadata": {},
   "outputs": [],
   "source": []
  },
  {
   "cell_type": "code",
   "execution_count": null,
   "id": "cce6f363",
   "metadata": {},
   "outputs": [],
   "source": []
  }
 ],
 "metadata": {
  "kernelspec": {
   "display_name": "Python 3 (ipykernel)",
   "language": "python",
   "name": "python3"
  },
  "language_info": {
   "codemirror_mode": {
    "name": "ipython",
    "version": 3
   },
   "file_extension": ".py",
   "mimetype": "text/x-python",
   "name": "python",
   "nbconvert_exporter": "python",
   "pygments_lexer": "ipython3",
   "version": "3.9.12"
  }
 },
 "nbformat": 4,
 "nbformat_minor": 5
}
