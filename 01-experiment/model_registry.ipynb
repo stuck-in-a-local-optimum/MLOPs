{
 "cells": [
  {
   "cell_type": "code",
   "execution_count": 2,
   "id": "d672af0b",
   "metadata": {},
   "outputs": [],
   "source": [
    "from mlflow.tracking import MlflowClient\n",
    "\n",
    "MLFLOW_TRACKING_URI = \"sqlite:///mlflow.db\"\n",
    "\n",
    "client = MlflowClient(tracking_uri = MLFLOW_TRACKING_URI)"
   ]
  },
  {
   "cell_type": "code",
   "execution_count": 4,
   "id": "e56e11f6",
   "metadata": {},
   "outputs": [
    {
     "data": {
      "text/plain": [
       "[<Experiment: artifact_location='./mlruns/0', experiment_id='0', lifecycle_stage='active', name='Default', tags={}>,\n",
       " <Experiment: artifact_location='./mlruns/1', experiment_id='1', lifecycle_stage='active', name='nyc-taxi-experiment', tags={}>]"
      ]
     },
     "execution_count": 4,
     "metadata": {},
     "output_type": "execute_result"
    }
   ],
   "source": [
    "#list of experiments on our mlflow ui\n",
    "client.list_experiments()"
   ]
  },
  {
   "cell_type": "code",
   "execution_count": 12,
   "id": "c343e519",
   "metadata": {},
   "outputs": [],
   "source": [
    "#check for the given experiment, what are the best runs/models\n",
    "\n",
    "from mlflow.entities import ViewType\n",
    "\n",
    "runs  = client.search_runs(\n",
    "    experiment_ids=\"1\",\n",
    "    filter_string =\"metrics.rmse <6.8\",\n",
    "    run_view_type = ViewType.ACTIVE_ONLY,\n",
    "    max_results = 5,\n",
    "    order_by = ['metrics.rmse ASC']\n",
    ")"
   ]
  },
  {
   "cell_type": "code",
   "execution_count": 13,
   "id": "a60120d3",
   "metadata": {},
   "outputs": [
    {
     "name": "stdout",
     "output_type": "stream",
     "text": [
      "run id: b737d95fc8a14ae2a599771751638cb0, rmse:6.2887\n",
      "run id: e389dae9d8a045538a7330c618cb7c96, rmse:6.2902\n",
      "run id: 4baf368bdf8e4633bdd0d3e7dc2c3560, rmse:6.2913\n",
      "run id: 7338b6a818bf4893b4ccc0887aab1148, rmse:6.3040\n",
      "run id: 80fe68adcdce401699fd14e4a906c162, rmse:6.3093\n"
     ]
    }
   ],
   "source": [
    "for run in runs:\n",
    "    print(f\"run id: {run.info.run_id}, rmse:{run.data.metrics['rmse']:.4f}\")"
   ]
  },
  {
   "cell_type": "code",
   "execution_count": null,
   "id": "e17b12c6",
   "metadata": {},
   "outputs": [],
   "source": []
  },
  {
   "cell_type": "code",
   "execution_count": null,
   "id": "33f402f5",
   "metadata": {},
   "outputs": [],
   "source": []
  }
 ],
 "metadata": {
  "kernelspec": {
   "display_name": "Python 3 (ipykernel)",
   "language": "python",
   "name": "python3"
  },
  "language_info": {
   "codemirror_mode": {
    "name": "ipython",
    "version": 3
   },
   "file_extension": ".py",
   "mimetype": "text/x-python",
   "name": "python",
   "nbconvert_exporter": "python",
   "pygments_lexer": "ipython3",
   "version": "3.9.12"
  }
 },
 "nbformat": 4,
 "nbformat_minor": 5
}
